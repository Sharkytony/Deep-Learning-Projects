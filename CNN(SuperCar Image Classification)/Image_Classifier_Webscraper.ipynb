{
 "cells": [
  {
   "cell_type": "markdown",
   "id": "0ee34291",
   "metadata": {},
   "source": [
    "# <div style=\"background-color: cyan; text-align: center;\"><font face=\"verdana\" color=\"red\">Importing Libraries"
   ]
  },
  {
   "cell_type": "code",
   "execution_count": 1,
   "id": "ec6edf9b",
   "metadata": {},
   "outputs": [],
   "source": [
    "import requests\n",
    "from bs4 import BeautifulSoup"
   ]
  },
  {
   "cell_type": "markdown",
   "id": "2d86d5b3",
   "metadata": {},
   "source": [
    "# <div style=\"background-color: cyan; text-align: center;\"><font face=\"verdana\" color=\"red\">Scraping and saving html Pages into local .html files"
   ]
  },
  {
   "cell_type": "code",
   "execution_count": 2,
   "id": "b36e1ad2",
   "metadata": {},
   "outputs": [],
   "source": [
    "def fetch_and_save(url, path):\n",
    "    r = requests.get(url)\n",
    "    with open(path, 'w')as f:\n",
    "        f.write(r.text)"
   ]
  },
  {
   "cell_type": "code",
   "execution_count": 3,
   "id": "a052b829",
   "metadata": {},
   "outputs": [],
   "source": [
    "url = \"https://www.apetogentleman.com/top-10-supercar-brands/\"\n",
    "path = 'C://Users//7XIN//Desktop//N2//AI//DL//SuperCar Image Classification//top_supercar_brands.html'\n",
    "\n",
    "fetch_and_save(url, path)"
   ]
  },
  {
   "cell_type": "markdown",
   "id": "b1ac3203",
   "metadata": {},
   "source": [
    "# <div style=\"background-color: cyan; text-align: center;\"><font face=\"verdana\" color=\"red\"> Scraping Brands"
   ]
  },
  {
   "cell_type": "code",
   "execution_count": 4,
   "id": "6e8ad52f",
   "metadata": {},
   "outputs": [],
   "source": [
    "with open('top_supercar_brands.html', 'r') as f:\n",
    "    html_doc = f.read()"
   ]
  },
  {
   "cell_type": "code",
   "execution_count": 5,
   "id": "2a498af5",
   "metadata": {},
   "outputs": [],
   "source": [
    "soup = BeautifulSoup(html_doc, 'lxml')"
   ]
  },
  {
   "cell_type": "code",
   "execution_count": 6,
   "id": "222e10a7",
   "metadata": {},
   "outputs": [],
   "source": [
    "brands = soup.find_all('h3')"
   ]
  },
  {
   "cell_type": "code",
   "execution_count": 7,
   "id": "6b248900",
   "metadata": {},
   "outputs": [
    {
     "data": {
      "text/plain": [
       "['Lamborghini',\n",
       " 'Bugatti',\n",
       " 'Porsche',\n",
       " 'Mercedes-Benz',\n",
       " 'McLaren',\n",
       " 'Pagani',\n",
       " 'Koenigsegg']"
      ]
     },
     "execution_count": 7,
     "metadata": {},
     "output_type": "execute_result"
    }
   ],
   "source": [
    "data = { 'Brands' :  [] }\n",
    "\n",
    "for i, val in enumerate(brands):\n",
    "    if i > 0 and i < 8:\n",
    "        new_l =val.text\n",
    "        data['Brands'].append(new_l)\n",
    "        \n",
    "data['Brands']"
   ]
  },
  {
   "cell_type": "markdown",
   "id": "f3c848e1",
   "metadata": {},
   "source": [
    "# <div style=\"background-color: cyan; text-align: center;\"><font face=\"verdana\" color=\"red\">Scraping Some More Brands"
   ]
  },
  {
   "cell_type": "code",
   "execution_count": 8,
   "id": "99c3a8bb",
   "metadata": {},
   "outputs": [],
   "source": [
    "from selenium import webdriver\n",
    "url = \"https://www.esquiremag.ph/wheels/cars/best-supercar-brands-a2336-20190613-lfrm\"\n",
    "path = 'C://Users//7XIN//Desktop//N2//AI//DL//SuperCar Image Classification//top_supercar_brands2.html'\n",
    "\n",
    "driver = webdriver.Chrome()\n",
    "page = driver.get(url)\n",
    "with open(path, 'wb')as f:\n",
    "    f.write(driver.page_source.encode('utf-8'))\n",
    "driver.quit()"
   ]
  },
  {
   "cell_type": "code",
   "execution_count": 9,
   "id": "c7c57027",
   "metadata": {},
   "outputs": [],
   "source": [
    "with open('top_supercar_brands2.html', 'r', encoding='utf-8') as f:\n",
    "    html_doc = f.read()"
   ]
  },
  {
   "cell_type": "code",
   "execution_count": 10,
   "id": "a2dda9bf",
   "metadata": {},
   "outputs": [],
   "source": [
    "soup = BeautifulSoup(html_doc, 'lxml')"
   ]
  },
  {
   "cell_type": "code",
   "execution_count": 11,
   "id": "9dde7b4c",
   "metadata": {},
   "outputs": [],
   "source": [
    "brands = soup.find_all('h2')"
   ]
  },
  {
   "cell_type": "code",
   "execution_count": 12,
   "id": "8f18579b",
   "metadata": {},
   "outputs": [
    {
     "data": {
      "text/plain": [
       "['Aston Martin',\n",
       " 'Bugatti',\n",
       " 'Ferrari',\n",
       " 'Hennessey Performance Engineering',\n",
       " 'Koenigsegg',\n",
       " 'Lamborghini',\n",
       " 'McLaren']"
      ]
     },
     "execution_count": 12,
     "metadata": {},
     "output_type": "execute_result"
    }
   ],
   "source": [
    "data2 = { 'Brands' :  [] }\n",
    "\n",
    "for i, val in enumerate(brands):\n",
    "    if i > 0 and i < 8:\n",
    "        new_l = val.text\n",
    "        data2['Brands'].append(new_l[3:])\n",
    "        \n",
    "data2['Brands']"
   ]
  },
  {
   "cell_type": "markdown",
   "id": "5a58579e",
   "metadata": {},
   "source": [
    "# <div style=\"background-color: cyan; text-align: center;\"><font face=\"verdana\" color=\"red\">Concatenating lists"
   ]
  },
  {
   "cell_type": "code",
   "execution_count": 13,
   "id": "efd45e23",
   "metadata": {},
   "outputs": [
    {
     "data": {
      "text/plain": [
       "array(['Porsche', 'Bugatti', 'Koenigsegg', 'McLaren', 'Aston Martin',\n",
       "       'Hennessey Performance Engineering', 'Pagani', 'Mercedes-Benz',\n",
       "       'Ferrari', 'Lamborghini'], dtype='<U33')"
      ]
     },
     "execution_count": 13,
     "metadata": {},
     "output_type": "execute_result"
    }
   ],
   "source": [
    "n_set = set(data['Brands'])\n",
    "for i in data2['Brands']:\n",
    "    n_set.add(i)\n",
    "    \n",
    "import numpy as np\n",
    "Brands_list = np.array(list(n_set))\n",
    "Brands_list"
   ]
  },
  {
   "cell_type": "markdown",
   "id": "ef6e692d",
   "metadata": {},
   "source": [
    "# <div style=\"background-color: cyan; text-align: center;\"><font face=\"verdana\" color=\"red\"> Scraping Car seller web page results after searching each brand <br>filter - in UAE(for further app development detailing)"
   ]
  },
  {
   "cell_type": "code",
   "execution_count": 20,
   "id": "4cf9e805",
   "metadata": {
    "scrolled": false
   },
   "outputs": [],
   "source": [
    "for brand_name in Brands_list:\n",
    "    driver = webdriver.Chrome()\n",
    "    name = brand_name.lower().replace(' ', '_')\n",
    "    print(name)\n",
    "    url = f\"https://www.jamesedition.com/cars/{name}?country_code=AE&filter_location=bar\"\n",
    "    path = f'C://Users//7XIN//Desktop//N2//AI//DL//SuperCar Image Classification//2_All_{brand_name}_supercars.html'\n",
    "\n",
    "    driver.get(url)\n",
    "    with open(path, 'wb')as f:\n",
    "        f.write(driver.page_source.encode('utf-8'))\n",
    "    driver.quit()"
   ]
  },
  {
   "cell_type": "markdown",
   "id": "4d6d8ce3",
   "metadata": {},
   "source": [
    "# <div style=\"background-color: cyan; text-align: center;\"><font face=\"verdana\" color=\"red\">Opening all Scraped web pages and Extracting Car names"
   ]
  },
  {
   "cell_type": "code",
   "execution_count": 21,
   "id": "bca12cf8",
   "metadata": {},
   "outputs": [],
   "source": [
    "all_cars = list()\n",
    "\n",
    "for i in Brands_list:\n",
    "    with open(f'2_All_{i}_supercars.html', 'r', encoding='utf-8') as f:\n",
    "        html_doc = f.read()\n",
    "        soup = BeautifulSoup(html_doc, 'lxml')\n",
    "        cars = soup.find_all('span',class_='ListingCard__tag')\n",
    "        for i in cars:\n",
    "            all_cars.append(i.text)"
   ]
  },
  {
   "cell_type": "code",
   "execution_count": 22,
   "id": "9c78fb2d",
   "metadata": {
    "scrolled": true
   },
   "outputs": [
    {
     "data": {
      "text/plain": [
       "['2011 Porsche 997 GT3 rwd',\n",
       " '2006 Porsche Carrera GT rwd',\n",
       " '2023 Porsche 911 Carrera ',\n",
       " '2015 Porsche 918 spyder ',\n",
       " '1987 Porsche 911 rwd',\n",
       " '2023 Porsche 911 Turbo S ',\n",
       " '2015 Porsche 918 spyder ',\n",
       " '2021 Porsche 911 Carrera ',\n",
       " '2015 Porsche 918 spyder ',\n",
       " '2015 Porsche 918 spyder ',\n",
       " '2023 Porsche 911 Turbo ',\n",
       " '2022 Porsche Carrera 4 ',\n",
       " '2021 Porsche Taycan ',\n",
       " '1997 Porsche 911 Carrera ',\n",
       " '2023 Porsche 911 Turbo ',\n",
       " '2021 Porsche 911 GT3 ',\n",
       " '2022 Porsche 911 Turbo ',\n",
       " '2022 Porsche 911 GT3 ',\n",
       " '2019 Porsche 911 GT3 RS ',\n",
       " '1989 Porsche 959 ',\n",
       " '2018 Porsche 911 GT2 ',\n",
       " '2023 Porsche 911 Turbo S ',\n",
       " '2020 Porsche 911 Turbo S ',\n",
       " '2018 Porsche 911 Turbo S ',\n",
       " '2022 Porsche 911 Carrera ',\n",
       " '2023 Porsche 911 Turbo S ',\n",
       " '2021 Porsche 911 Turbo S ',\n",
       " '2023 Porsche 718 ',\n",
       " '2020 Porsche 911 Turbo S ',\n",
       " '2023 Porsche Taycan ',\n",
       " '2023 Porsche 911 GT3 RS ',\n",
       " '2023 Porsche 911 Carrera ',\n",
       " '2022 Porsche 911 GT3 ',\n",
       " '2007 Porsche 911 Carrera ',\n",
       " '2019 Porsche Panamera 4x4',\n",
       " '2014 Porsche GT-3 ',\n",
       " '2021 Bugatti Divo awd',\n",
       " '2006 Bugatti Veyron ',\n",
       " '2022 Bugatti Divo ',\n",
       " '2009 Bugatti Veyron awd',\n",
       " '2019 Bugatti Chiron awd',\n",
       " '2022 Bugatti Type 35 ',\n",
       " '2022 Bugatti Type 35 ',\n",
       " '2014 Koenigsegg Agera R ',\n",
       " '2019 Koenigsegg Regera ',\n",
       " '2022 McLaren Elva ',\n",
       " '2017 McLaren 675LT SPIDER ',\n",
       " '2016 McLaren 675 LT ',\n",
       " '2015 McLaren P1 GTR ',\n",
       " '2015 McLaren P1 GTR ',\n",
       " '2017 McLaren 765LT ',\n",
       " '2020 McLaren 620R ',\n",
       " '2017 McLaren 570S ',\n",
       " '2015 McLaren P1 ',\n",
       " '2022 McLaren 765 LT ',\n",
       " '2022 McLaren Elva ',\n",
       " '2021 McLaren 765LT ',\n",
       " '2018 McLaren 720S unknown',\n",
       " 'McLaren P1 / 2014 / Limited Edition (1 of 375)',\n",
       " '2016 McLaren 600LT awd',\n",
       " '2014 McLaren P1 awd',\n",
       " '2018 Aston Martin V12 Vantage ',\n",
       " '2022 Aston Martin Vantage ',\n",
       " '2016 Aston Martin Vantage GT12 ',\n",
       " '2023 Aston Martin V12 Vantage ',\n",
       " '2016 Aston Martin Vantage GT12 awd',\n",
       " '2006 Aston Martin Vanquish ',\n",
       " '2023 Maserati MC20',\n",
       " '2006 Porsche Carrera GT rwd',\n",
       " '2021 Chevrolet Corvette Stingray 3LT',\n",
       " '2021 Pagani Huayra ',\n",
       " '2020 Pagani Huayra Roadster ',\n",
       " '2013 Pagani Huayra ',\n",
       " '2022 Pagani Huayra Roadster ',\n",
       " '2015 Pagani Huayra awd',\n",
       " '2022 Mercedes-Benz G 63 AMG 4x4',\n",
       " '2021 Mercedes-Benz AMG GLE 63 S ',\n",
       " '2021 Mercedes-Benz G 63 AMG ',\n",
       " '2021 Mercedes-Benz G 63 AMG ',\n",
       " '2023 Mercedes-Benz G 63 AMG ',\n",
       " '2023 Mercedes-Benz S 580 ',\n",
       " '2012 Mercedes-Benz SLS AMG ',\n",
       " '2022 Mercedes-Benz G 63 AMG ',\n",
       " '2022 Mercedes-Benz S 580 ',\n",
       " '2022 Mercedes-Benz G 63 AMG ',\n",
       " '2023 Mercedes-Benz G800 Brabus ',\n",
       " '2006 Mercedes-Benz SLR McLaren ',\n",
       " '2016 Mercedes-Benz GLE 43 AMG ',\n",
       " '2023 Mercedes-Benz GLS 63 AMG ',\n",
       " '2014 Mercedes-Benz G 63 AMG ',\n",
       " '2022 Mercedes-Benz G 63 AMG ',\n",
       " '2018 Mercedes-Benz Mercedes-Maybach G 650 Landaulet ',\n",
       " '2023 Mercedes-Benz G 63 AMG ',\n",
       " '2022 Mercedes-Benz G 63 AMG ',\n",
       " '1957 Mercedes-Benz 190 SL',\n",
       " '2022 Mercedes-Benz G 63 AMG ',\n",
       " '2021 Mercedes-Benz G 63 AMG ',\n",
       " '2022 Mercedes-Benz G 63 AMG ',\n",
       " '2022 Mercedes-Benz G800 Brabus ',\n",
       " '2023 Mercedes-Benz Maybach S580 ',\n",
       " '2023 Mercedes-Benz GLS Class ',\n",
       " '2009 Mercedes-Benz SL 65 AMG Black Series ',\n",
       " '2021 Mercedes-Benz AMG GT ',\n",
       " '2009 Mercedes-Benz SLR McLaren ',\n",
       " '2023 Mercedes-Benz G800 Brabus ',\n",
       " '2021 Mercedes-Benz G 63 AMG ',\n",
       " '2021 Mercedes-Benz G 63 AMG ',\n",
       " '2021 Mercedes-Benz AMG GT ',\n",
       " '2023 Mercedes-Benz Maybach S580 ',\n",
       " '2022 Mercedes-Benz G 63 AMG ',\n",
       " '2021 Mercedes-Benz G 63 AMG ',\n",
       " '2004 Ferrari 360 Challenge rwd',\n",
       " '2021 Ferrari SF90 awd',\n",
       " '2015 Ferrari F12 rwd',\n",
       " '2021 Ferrari 488 ',\n",
       " '2013 Ferrari 458 ',\n",
       " '2020 Ferrari F8 Tributo ',\n",
       " '2018 Ferrari 812 Superfast ',\n",
       " '2015 Ferrari 458 ',\n",
       " '2017 Ferrari LaFerrari ',\n",
       " '2009 Ferrari F430 ',\n",
       " '2021 Ferrari SF90 ',\n",
       " '2023 Ferrari 812 GTS ',\n",
       " '2023 Ferrari 296 GTB ',\n",
       " '2023 Ferrari 812 GTS ',\n",
       " '2022 Ferrari SF90 ',\n",
       " '2021 Ferrari SF90 ',\n",
       " '2015 Ferrari 458 ',\n",
       " '2017 Ferrari F12 tdf ',\n",
       " '2017 Ferrari F12 tdf ',\n",
       " '2009 Ferrari F430 ',\n",
       " '2023 Ferrari SF 90 ',\n",
       " '2021 Ferrari Monza SP2 ',\n",
       " '2021 Ferrari SF90 ',\n",
       " '2023 Ferrari 812 GTS ',\n",
       " '2019 Ferrari 488 Pista Piloti ',\n",
       " '2022 Ferrari 812 GTS ',\n",
       " '2023 Ferrari 812 Competizione ',\n",
       " '2022 Ferrari 488 ',\n",
       " '2021 Ferrari 488 ',\n",
       " '2021 Ferrari 812 GTS ',\n",
       " '2015 Ferrari LaFerrari',\n",
       " '2017 Ferrari 488 ',\n",
       " '2020 Ferrari 488 ',\n",
       " '2018 Ferrari 488 ',\n",
       " '2022 Ferrari 812 GTS ',\n",
       " '2014 Ferrari 458 ',\n",
       " '2022 Lamborghini Huracan awd',\n",
       " '2022 Lamborghini Sian awd',\n",
       " '2022 Lamborghini Aventador Ultimae ',\n",
       " '2019 Lamborghini Urus ',\n",
       " '2021 Lamborghini Urus ',\n",
       " '2022 Lamborghini Urus ',\n",
       " '2022 Lamborghini Urus ',\n",
       " '2021 Lamborghini Aventador SVJ ',\n",
       " '2022 Lamborghini Huracan ',\n",
       " '2022 Lamborghini Urus ',\n",
       " '2016 Lamborghini Aventador ',\n",
       " '2021 Lamborghini Urus ',\n",
       " '2015 Lamborghini Veneno ',\n",
       " '2022 Lamborghini Urus ',\n",
       " '2022 Lamborghini Urus ',\n",
       " '2008 Lamborghini Reventon ',\n",
       " '2020 Lamborghini Huracan ',\n",
       " '2022 Lamborghini Huracan ',\n",
       " '2019 Lamborghini Aventador ',\n",
       " '2019 Lamborghini Urus ',\n",
       " '2017 Lamborghini Aventador SV ',\n",
       " '2021 Lamborghini Aventador SVJ 63 Roadster ',\n",
       " '2023 Lamborghini Urus ',\n",
       " '2010 Lamborghini MURCIELAGO ',\n",
       " '2022 Lamborghini Urus ',\n",
       " '2018 Lamborghini Centenario ',\n",
       " '2022 Lamborghini Sian ',\n",
       " '2023 Lamborghini Urus ',\n",
       " '2022 Lamborghini Urus awd',\n",
       " '2022 Lamborghini Huracan awd',\n",
       " '2020 Lamborghini Aventador SVJ unknown',\n",
       " '2020 Lamborghini Urus unknown',\n",
       " '2022 Lamborghini Urus ',\n",
       " '2022 Lamborghini Urus 4x4',\n",
       " '2022 Lamborghini Aventador ',\n",
       " '2022 Lamborghini Huracan unknown']"
      ]
     },
     "execution_count": 22,
     "metadata": {},
     "output_type": "execute_result"
    }
   ],
   "source": [
    "# No Henessey Performance Engineers Cars on James Edition Web\n",
    "all_cars"
   ]
  },
  {
   "cell_type": "markdown",
   "id": "9bfe8122",
   "metadata": {},
   "source": [
    "# <div style=\"background-color: cyan; text-align: center;\"><font face=\"verdana\" color=\"red\"> Extracting Cars with only unique names i.e only if the car name doesnt exist not the cars which have the same name but different year of manufacturing"
   ]
  },
  {
   "cell_type": "code",
   "execution_count": 23,
   "id": "2014ea88",
   "metadata": {
    "scrolled": true
   },
   "outputs": [],
   "source": [
    "import numpy as np\n",
    "unique_brands = set()\n",
    "filtered_cars = np.array([])\n",
    "\n",
    "for car_name in all_cars:\n",
    "    car = car_name.strip().lower()\n",
    "    if car not in unique_brands:\n",
    "        filtered_cars = np.append(filtered_cars, car_name)\n",
    "        unique_brands.add(car)"
   ]
  },
  {
   "cell_type": "code",
   "execution_count": 24,
   "id": "b17a1807",
   "metadata": {
    "scrolled": true
   },
   "outputs": [
    {
     "data": {
      "text/plain": [
       "array(['2011 Porsche 997 GT3 rwd', '2006 Porsche Carrera GT rwd',\n",
       "       '2023 Porsche 911 Carrera ', '2015 Porsche 918 spyder ',\n",
       "       '1987 Porsche 911 rwd', '2023 Porsche 911 Turbo S ',\n",
       "       '2021 Porsche 911 Carrera ', '2023 Porsche 911 Turbo ',\n",
       "       '2022 Porsche Carrera 4 ', '2021 Porsche Taycan ',\n",
       "       '1997 Porsche 911 Carrera ', '2021 Porsche 911 GT3 ',\n",
       "       '2022 Porsche 911 Turbo ', '2022 Porsche 911 GT3 ',\n",
       "       '2019 Porsche 911 GT3 RS ', '1989 Porsche 959 ',\n",
       "       '2018 Porsche 911 GT2 ', '2020 Porsche 911 Turbo S ',\n",
       "       '2018 Porsche 911 Turbo S ', '2022 Porsche 911 Carrera ',\n",
       "       '2021 Porsche 911 Turbo S ', '2023 Porsche 718 ',\n",
       "       '2023 Porsche Taycan ', '2023 Porsche 911 GT3 RS ',\n",
       "       '2007 Porsche 911 Carrera ', '2019 Porsche Panamera 4x4',\n",
       "       '2014 Porsche GT-3 ', '2021 Bugatti Divo awd',\n",
       "       '2006 Bugatti Veyron ', '2022 Bugatti Divo ',\n",
       "       '2009 Bugatti Veyron awd', '2019 Bugatti Chiron awd',\n",
       "       '2022 Bugatti Type 35 ', '2014 Koenigsegg Agera R ',\n",
       "       '2019 Koenigsegg Regera ', '2022 McLaren Elva ',\n",
       "       '2017 McLaren 675LT SPIDER ', '2016 McLaren 675 LT ',\n",
       "       '2015 McLaren P1 GTR ', '2017 McLaren 765LT ',\n",
       "       '2020 McLaren 620R ', '2017 McLaren 570S ', '2015 McLaren P1 ',\n",
       "       '2022 McLaren 765 LT ', '2021 McLaren 765LT ',\n",
       "       '2018 McLaren 720S unknown',\n",
       "       'McLaren P1 / 2014 / Limited Edition (1 of 375)',\n",
       "       '2016 McLaren 600LT awd', '2014 McLaren P1 awd',\n",
       "       '2018 Aston Martin V12 Vantage ', '2022 Aston Martin Vantage ',\n",
       "       '2016 Aston Martin Vantage GT12 ',\n",
       "       '2023 Aston Martin V12 Vantage ',\n",
       "       '2016 Aston Martin Vantage GT12 awd',\n",
       "       '2006 Aston Martin Vanquish ', '2023 Maserati MC20',\n",
       "       '2021 Chevrolet Corvette Stingray 3LT', '2021 Pagani Huayra ',\n",
       "       '2020 Pagani Huayra Roadster ', '2013 Pagani Huayra ',\n",
       "       '2022 Pagani Huayra Roadster ', '2015 Pagani Huayra awd',\n",
       "       '2022 Mercedes-Benz G 63 AMG 4x4',\n",
       "       '2021 Mercedes-Benz AMG GLE 63 S ', '2021 Mercedes-Benz G 63 AMG ',\n",
       "       '2023 Mercedes-Benz G 63 AMG ', '2023 Mercedes-Benz S 580 ',\n",
       "       '2012 Mercedes-Benz SLS AMG ', '2022 Mercedes-Benz G 63 AMG ',\n",
       "       '2022 Mercedes-Benz S 580 ', '2023 Mercedes-Benz G800 Brabus ',\n",
       "       '2006 Mercedes-Benz SLR McLaren ',\n",
       "       '2016 Mercedes-Benz GLE 43 AMG ', '2023 Mercedes-Benz GLS 63 AMG ',\n",
       "       '2014 Mercedes-Benz G 63 AMG ',\n",
       "       '2018 Mercedes-Benz Mercedes-Maybach G 650 Landaulet ',\n",
       "       '1957 Mercedes-Benz 190 SL', '2022 Mercedes-Benz G800 Brabus ',\n",
       "       '2023 Mercedes-Benz Maybach S580 ',\n",
       "       '2023 Mercedes-Benz GLS Class ',\n",
       "       '2009 Mercedes-Benz SL 65 AMG Black Series ',\n",
       "       '2021 Mercedes-Benz AMG GT ', '2009 Mercedes-Benz SLR McLaren ',\n",
       "       '2004 Ferrari 360 Challenge rwd', '2021 Ferrari SF90 awd',\n",
       "       '2015 Ferrari F12 rwd', '2021 Ferrari 488 ', '2013 Ferrari 458 ',\n",
       "       '2020 Ferrari F8 Tributo ', '2018 Ferrari 812 Superfast ',\n",
       "       '2015 Ferrari 458 ', '2017 Ferrari LaFerrari ',\n",
       "       '2009 Ferrari F430 ', '2021 Ferrari SF90 ',\n",
       "       '2023 Ferrari 812 GTS ', '2023 Ferrari 296 GTB ',\n",
       "       '2022 Ferrari SF90 ', '2017 Ferrari F12 tdf ',\n",
       "       '2023 Ferrari SF 90 ', '2021 Ferrari Monza SP2 ',\n",
       "       '2019 Ferrari 488 Pista Piloti ', '2022 Ferrari 812 GTS ',\n",
       "       '2023 Ferrari 812 Competizione ', '2022 Ferrari 488 ',\n",
       "       '2021 Ferrari 812 GTS ', '2015 Ferrari LaFerrari',\n",
       "       '2017 Ferrari 488 ', '2020 Ferrari 488 ', '2018 Ferrari 488 ',\n",
       "       '2014 Ferrari 458 ', '2022 Lamborghini Huracan awd',\n",
       "       '2022 Lamborghini Sian awd', '2022 Lamborghini Aventador Ultimae ',\n",
       "       '2019 Lamborghini Urus ', '2021 Lamborghini Urus ',\n",
       "       '2022 Lamborghini Urus ', '2021 Lamborghini Aventador SVJ ',\n",
       "       '2022 Lamborghini Huracan ', '2016 Lamborghini Aventador ',\n",
       "       '2015 Lamborghini Veneno ', '2008 Lamborghini Reventon ',\n",
       "       '2020 Lamborghini Huracan ', '2019 Lamborghini Aventador ',\n",
       "       '2017 Lamborghini Aventador SV ',\n",
       "       '2021 Lamborghini Aventador SVJ 63 Roadster ',\n",
       "       '2023 Lamborghini Urus ', '2010 Lamborghini MURCIELAGO ',\n",
       "       '2018 Lamborghini Centenario ', '2022 Lamborghini Sian ',\n",
       "       '2022 Lamborghini Urus awd',\n",
       "       '2020 Lamborghini Aventador SVJ unknown',\n",
       "       '2020 Lamborghini Urus unknown', '2022 Lamborghini Urus 4x4',\n",
       "       '2022 Lamborghini Aventador ', '2022 Lamborghini Huracan unknown'],\n",
       "      dtype='<U52')"
      ]
     },
     "execution_count": 24,
     "metadata": {},
     "output_type": "execute_result"
    }
   ],
   "source": [
    "filtered_cars"
   ]
  },
  {
   "cell_type": "markdown",
   "id": "ff61268a",
   "metadata": {},
   "source": [
    "# <div style=\"background-color: cyan; text-align: center;\"><font face=\"verdana\" color=\"red\">Extracting Brand , Car_model and Year in seperate columns and storing it into a dataframe"
   ]
  },
  {
   "cell_type": "code",
   "execution_count": 4,
   "id": "5aa0abe5",
   "metadata": {
    "scrolled": false
   },
   "outputs": [
    {
     "data": {
      "text/html": [
       "<div>\n",
       "<style scoped>\n",
       "    .dataframe tbody tr th:only-of-type {\n",
       "        vertical-align: middle;\n",
       "    }\n",
       "\n",
       "    .dataframe tbody tr th {\n",
       "        vertical-align: top;\n",
       "    }\n",
       "\n",
       "    .dataframe thead th {\n",
       "        text-align: right;\n",
       "    }\n",
       "</style>\n",
       "<table border=\"1\" class=\"dataframe\">\n",
       "  <thead>\n",
       "    <tr style=\"text-align: right;\">\n",
       "      <th></th>\n",
       "      <th>Brand</th>\n",
       "      <th>Car_model</th>\n",
       "      <th>Year</th>\n",
       "    </tr>\n",
       "  </thead>\n",
       "  <tbody>\n",
       "    <tr>\n",
       "      <th>0</th>\n",
       "      <td>Aston Martin</td>\n",
       "      <td>Aston Martin Vantage GT12 awd</td>\n",
       "      <td>2016</td>\n",
       "    </tr>\n",
       "    <tr>\n",
       "      <th>1</th>\n",
       "      <td>Aston Martin</td>\n",
       "      <td>Aston Martin Vanquish</td>\n",
       "      <td>2006</td>\n",
       "    </tr>\n",
       "    <tr>\n",
       "      <th>2</th>\n",
       "      <td>Bugatti</td>\n",
       "      <td>Bugatti Type 35</td>\n",
       "      <td>2022</td>\n",
       "    </tr>\n",
       "    <tr>\n",
       "      <th>3</th>\n",
       "      <td>Bugatti</td>\n",
       "      <td>Bugatti Divo</td>\n",
       "      <td>2022</td>\n",
       "    </tr>\n",
       "    <tr>\n",
       "      <th>4</th>\n",
       "      <td>Ferrari</td>\n",
       "      <td>Ferrari F12 tdf</td>\n",
       "      <td>2017</td>\n",
       "    </tr>\n",
       "    <tr>\n",
       "      <th>5</th>\n",
       "      <td>Ferrari</td>\n",
       "      <td>Ferrari 296 GTB</td>\n",
       "      <td>2023</td>\n",
       "    </tr>\n",
       "    <tr>\n",
       "      <th>6</th>\n",
       "      <td>Koenigsegg</td>\n",
       "      <td>Koenigsegg Agera R</td>\n",
       "      <td>2014</td>\n",
       "    </tr>\n",
       "    <tr>\n",
       "      <th>7</th>\n",
       "      <td>Koenigsegg</td>\n",
       "      <td>Koenigsegg Regera</td>\n",
       "      <td>2019</td>\n",
       "    </tr>\n",
       "    <tr>\n",
       "      <th>8</th>\n",
       "      <td>Lamborghini</td>\n",
       "      <td>Lamborghini Aventador</td>\n",
       "      <td>2019</td>\n",
       "    </tr>\n",
       "    <tr>\n",
       "      <th>9</th>\n",
       "      <td>Lamborghini</td>\n",
       "      <td>Lamborghini Veneno</td>\n",
       "      <td>2015</td>\n",
       "    </tr>\n",
       "    <tr>\n",
       "      <th>10</th>\n",
       "      <td>McLaren</td>\n",
       "      <td>McLaren P1</td>\n",
       "      <td>2015</td>\n",
       "    </tr>\n",
       "    <tr>\n",
       "      <th>11</th>\n",
       "      <td>McLaren</td>\n",
       "      <td>McLaren 620R</td>\n",
       "      <td>2020</td>\n",
       "    </tr>\n",
       "    <tr>\n",
       "      <th>12</th>\n",
       "      <td>Mercedes-Benz</td>\n",
       "      <td>Mercedes-Benz GLS Class</td>\n",
       "      <td>2023</td>\n",
       "    </tr>\n",
       "    <tr>\n",
       "      <th>13</th>\n",
       "      <td>Mercedes-Benz</td>\n",
       "      <td>Mercedes-Benz SLR McLaren</td>\n",
       "      <td>2006</td>\n",
       "    </tr>\n",
       "    <tr>\n",
       "      <th>14</th>\n",
       "      <td>Pagani</td>\n",
       "      <td>Pagani Huayra Roadster</td>\n",
       "      <td>2020</td>\n",
       "    </tr>\n",
       "    <tr>\n",
       "      <th>15</th>\n",
       "      <td>Pagani</td>\n",
       "      <td>Pagani Huayra</td>\n",
       "      <td>2013</td>\n",
       "    </tr>\n",
       "    <tr>\n",
       "      <th>16</th>\n",
       "      <td>Porsche</td>\n",
       "      <td>Porsche 911 Turbo S</td>\n",
       "      <td>2021</td>\n",
       "    </tr>\n",
       "    <tr>\n",
       "      <th>17</th>\n",
       "      <td>Porsche</td>\n",
       "      <td>Porsche Carrera 4</td>\n",
       "      <td>2022</td>\n",
       "    </tr>\n",
       "  </tbody>\n",
       "</table>\n",
       "</div>"
      ],
      "text/plain": [
       "            Brand                      Car_model  Year\n",
       "0    Aston Martin  Aston Martin Vantage GT12 awd  2016\n",
       "1    Aston Martin         Aston Martin Vanquish   2006\n",
       "2         Bugatti               Bugatti Type 35   2022\n",
       "3         Bugatti                  Bugatti Divo   2022\n",
       "4         Ferrari               Ferrari F12 tdf   2017\n",
       "5         Ferrari               Ferrari 296 GTB   2023\n",
       "6      Koenigsegg            Koenigsegg Agera R   2014\n",
       "7      Koenigsegg             Koenigsegg Regera   2019\n",
       "8     Lamborghini         Lamborghini Aventador   2019\n",
       "9     Lamborghini            Lamborghini Veneno   2015\n",
       "10        McLaren                    McLaren P1   2015\n",
       "11        McLaren                  McLaren 620R   2020\n",
       "12  Mercedes-Benz       Mercedes-Benz GLS Class   2023\n",
       "13  Mercedes-Benz     Mercedes-Benz SLR McLaren   2006\n",
       "14         Pagani        Pagani Huayra Roadster   2020\n",
       "15         Pagani                 Pagani Huayra   2013\n",
       "16        Porsche           Porsche 911 Turbo S   2021\n",
       "17        Porsche             Porsche Carrera 4   2022"
      ]
     },
     "execution_count": 4,
     "metadata": {},
     "output_type": "execute_result"
    }
   ],
   "source": [
    "import pandas as pd \n",
    "import numpy as np\n",
    "import re\n",
    "\n",
    "cars_data = pd.DataFrame()\n",
    "cars_data['Car_model'] = filtered_cars\n",
    "cars_data['Brand'] = cars_data['Car_model'].str.extract('({})'.format('|'.join(Brands_list)), expand=False)\n",
    "cars_data['Year'] = cars_data['Car_model'].str.extract(r'(\\d{4})')[0]\n",
    "cars_data['Car_model'] = cars_data['Car_model'].str.replace(r'\\d{4}\\s', '',regex=True)\n",
    "cars_data = cars_data[['Brand', 'Car_model', 'Year']]\n",
    "\n",
    "filtered_cars_data = cars_data.groupby(['Brand']).sample(2).reset_index(drop=True)\n",
    "# filtered_cars_data.to_csv('filtered_cars_data.csv')\n",
    "filtered_cars_data = pd.read_csv('filtered_cars_data.csv', index_col=0)\n",
    "filtered_cars_data['Year'] = filtered_cars_data['Year'].astype(str)\n",
    "filtered_cars_data"
   ]
  },
  {
   "cell_type": "markdown",
   "id": "3dd55b18",
   "metadata": {},
   "source": [
    "# <div style=\"background-color: cyan; text-align: center;\"><font face=\"verdana\" color=\"red\">Downloading 20 images of each Car_model "
   ]
  },
  {
   "cell_type": "code",
   "execution_count": 6,
   "id": "f1dea4e6",
   "metadata": {},
   "outputs": [],
   "source": [
    "import pygoogle_image.image as pi"
   ]
  },
  {
   "cell_type": "code",
   "execution_count": 7,
   "id": "0d350f5f",
   "metadata": {},
   "outputs": [
    {
     "name": "stderr",
     "output_type": "stream",
     "text": [
      "[========================================================================] 100%\n",
      "[========================================================================] 100%\n",
      "[========================================================================] 100%\n",
      "[========================================================================] 100%\n",
      "[========================================================================] 100%\n",
      "[========================================================================] 100%\n",
      "[========================================================================] 100%\n",
      "[========================================================================] 100%\n",
      "[========================================================================] 100%\n",
      "[========================================================================] 100%\n",
      "[========================================================================] 100%\n",
      "[========================================================================] 100%\n",
      "[========================================================================] 100%\n",
      "[========================================================================] 100%\n",
      "[========================================================================] 100%\n",
      "[========================================================================] 100%\n",
      "[========================================================================] 100%\n",
      "[========================================================================] 100%\n"
     ]
    }
   ],
   "source": [
    "for i in filtered_cars_data['Car_model']:\n",
    "    pi.download(keywords=f'{i}', limit=20)"
   ]
  },
  {
   "cell_type": "markdown",
   "id": "749259dd",
   "metadata": {},
   "source": [
    "# <div style=\"background-color: cyan; text-align: center;\"><font face=\"verdana\" color=\"red\">Removing underscores from class_names and storing them in Train_images directory"
   ]
  },
  {
   "cell_type": "code",
   "execution_count": 8,
   "id": "4631b9b3",
   "metadata": {},
   "outputs": [
    {
     "name": "stdout",
     "output_type": "stream",
     "text": [
      "Renamed: Aston_Martin_Vanquish to Aston Martin Vanquish\n",
      "Renamed: Aston_Martin_Vantage_GT12_awd to Aston Martin Vantage GT12 awd\n",
      "Renamed: Bugatti_Divo to Bugatti Divo\n",
      "Renamed: Bugatti_Type_35 to Bugatti Type 35\n",
      "Renamed: Ferrari_296_GTB to Ferrari 296 GTB\n",
      "Renamed: Ferrari_F12_tdf to Ferrari F12 tdf\n",
      "Renamed: Koenigsegg_Agera_R to Koenigsegg Agera R\n",
      "Renamed: Koenigsegg_Regera to Koenigsegg Regera\n",
      "Renamed: Lamborghini_Aventador to Lamborghini Aventador\n",
      "Renamed: Lamborghini_Veneno to Lamborghini Veneno\n",
      "Renamed: McLaren_620R to McLaren 620R\n",
      "Renamed: McLaren_P1 to McLaren P1\n",
      "Renamed: Mercedes-Benz_GLS_Class to Mercedes-Benz GLS Class\n",
      "Renamed: Mercedes-Benz_SLR_McLaren to Mercedes-Benz SLR McLaren\n",
      "Renamed: Pagani_Huayra to Pagani Huayra\n",
      "Renamed: Pagani_Huayra_Roadster to Pagani Huayra Roadster\n",
      "Renamed: Porsche_911_Turbo_S to Porsche 911 Turbo S\n",
      "Renamed: Porsche_Carrera_4 to Porsche Carrera 4\n"
     ]
    }
   ],
   "source": [
    "import os\n",
    "directory = 'Train_images/'\n",
    "\n",
    "for filename in os.listdir(directory):\n",
    "    if '_' in filename:\n",
    "        new_filename = filename.replace('_', ' ')\n",
    "        old_path = os.path.join(directory, filename)\n",
    "        new_path = os.path.join(directory, new_filename)\n",
    "        os.rename(old_path, new_path)\n",
    "        print(f'Renamed: {filename} to {new_filename}')\n",
    "    else:\n",
    "        print(f'Skipped: {filename} (no underscores)')"
   ]
  }
 ],
 "metadata": {
  "kernelspec": {
   "display_name": "Python 3 (ipykernel)",
   "language": "python",
   "name": "python3"
  },
  "language_info": {
   "codemirror_mode": {
    "name": "ipython",
    "version": 3
   },
   "file_extension": ".py",
   "mimetype": "text/x-python",
   "name": "python",
   "nbconvert_exporter": "python",
   "pygments_lexer": "ipython3",
   "version": "3.10.7"
  }
 },
 "nbformat": 4,
 "nbformat_minor": 5
}
